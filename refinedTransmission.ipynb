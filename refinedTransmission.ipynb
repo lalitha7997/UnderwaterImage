{
 "cells": [
  {
   "cell_type": "code",
   "execution_count": null,
   "metadata": {},
   "outputs": [],
   "source": [
    "import numpy as np\n",
    "from GuidedFilter import GuidedFilter\n",
    "\n",
    "\n",
    "def  refinedtransmission(transmission, img):\n",
    "    gimfiltR = 50  # 引导滤波时半径的大小\n",
    "    eps = 10 ** -3  # 引导滤波时epsilon的值\n",
    "\n",
    "    guided_filter = GuidedFilter(img, gimfiltR, eps)\n",
    "    transmission[:,:,0] = guided_filter.filter(transmission[:,:,0])\n",
    "    transmission[:,:,1] = guided_filter.filter(transmission[:,:,1])\n",
    "    transmission = np.clip(transmission, 0.1, 0.9)\n",
    "\n",
    "\n",
    "    return transmission"
   ]
  }
 ],
 "metadata": {
  "kernelspec": {
   "display_name": "Python 3",
   "language": "python",
   "name": "python3"
  },
  "language_info": {
   "codemirror_mode": {
    "name": "ipython",
    "version": 3
   },
   "file_extension": ".py",
   "mimetype": "text/x-python",
   "name": "python",
   "nbconvert_exporter": "python",
   "pygments_lexer": "ipython3",
   "version": "3.8.5"
  }
 },
 "nbformat": 4,
 "nbformat_minor": 4
}
