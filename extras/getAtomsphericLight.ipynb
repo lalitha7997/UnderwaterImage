{
 "cells": [
  {
   "cell_type": "code",
   "execution_count": null,
   "metadata": {},
   "outputs": [],
   "source": [
    "import numpy as np\n",
    "\n",
    "# 用于排序时存储原来像素点位置的数据结构\n",
    "class Node(object):\n",
    "\tdef __init__(self,x,y,value):\n",
    "\t\tself.x = x\n",
    "\t\tself.y = y\n",
    "\t\tself.value = value\n",
    "\tdef printInfo(self):\n",
    "\t\tprint(self.x,self.y,self.value)\n",
    "\n",
    "\n",
    "def getAtomsphericLight(darkChannel, img):\n",
    "    img = np.float32(img)\n",
    "    height = darkChannel.shape[0]\n",
    "    width = darkChannel.shape[1]\n",
    "    nodes = []\n",
    "    # 用一个链表结构(list)存储数据\n",
    "    for i in range(0, height):\n",
    "        for j in range(0, width):\n",
    "            oneNode = Node(i, j, darkChannel[i, j])\n",
    "            nodes.append(oneNode)\n",
    "    # 排序\n",
    "    nodes = sorted(nodes, key=lambda node: node.value, reverse=False)\n",
    "    # print('nodes[0]',nodes[0].value)\n",
    "    # print('img[nodes[0].x, nodes[0].y, 0]+img[nodes[0].x, nodes[0].y, 1])',img[nodes[0].x, nodes[0].y, 0],img[nodes[0].x, nodes[0].y, 1])\n",
    "    atomsphericLight  = np.mean([img[nodes[0].x, nodes[0].y, 0],img[nodes[0].x, nodes[0].y, 1]])\n",
    "    atomsphericLightGB = img[nodes[0].x, nodes[0].y, 0:2]\n",
    "    atomsphericLightRGB = img[nodes[0].x, nodes[0].y, :]\n",
    "    # atomsphericLight  =  [img[nodes[0].x, nodes[0].y, 0],img[nodes[0].x, nodes[0].y, 1]]\n",
    "    return atomsphericLight,atomsphericLightGB,atomsphericLightRGB\n"
   ]
  }
 ],
 "metadata": {
  "kernelspec": {
   "display_name": "Python 3",
   "language": "python",
   "name": "python3"
  },
  "language_info": {
   "codemirror_mode": {
    "name": "ipython",
    "version": 3
   },
   "file_extension": ".py",
   "mimetype": "text/x-python",
   "name": "python",
   "nbconvert_exporter": "python",
   "pygments_lexer": "ipython3",
   "version": "3.8.5"
  }
 },
 "nbformat": 4,
 "nbformat_minor": 4
}
