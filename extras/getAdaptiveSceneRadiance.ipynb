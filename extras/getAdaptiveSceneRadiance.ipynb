{
 "cells": [
  {
   "cell_type": "code",
   "execution_count": null,
   "metadata": {},
   "outputs": [],
   "source": [
    "import numpy as np\n",
    "\n",
    "def AdaptiveSceneRadiance(sceneRadiance,S_x):\n",
    "    sceneRadiance = np.float64(sceneRadiance)\n",
    "    sceneRadiance  = sceneRadiance * S_x\n",
    "\n",
    "    sceneRadiance = np.clip(sceneRadiance, 0, 255)\n",
    "    sceneRadiance = np.uint8(sceneRadiance)\n",
    "    return sceneRadiance"
   ]
  }
 ],
 "metadata": {
  "kernelspec": {
   "display_name": "Python 3",
   "language": "python",
   "name": "python3"
  },
  "language_info": {
   "codemirror_mode": {
    "name": "ipython",
    "version": 3
   },
   "file_extension": ".py",
   "mimetype": "text/x-python",
   "name": "python",
   "nbconvert_exporter": "python",
   "pygments_lexer": "ipython3",
   "version": "3.8.5"
  }
 },
 "nbformat": 4,
 "nbformat_minor": 4
}
