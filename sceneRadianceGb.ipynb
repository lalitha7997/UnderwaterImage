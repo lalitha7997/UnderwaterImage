{
 "cells": [
  {
   "cell_type": "code",
   "execution_count": null,
   "metadata": {},
   "outputs": [],
   "source": [
    "import numpy as np\n",
    "\n",
    "\n",
    "def sceneRadianceGB(img,transmission,AtomsphericLight):\n",
    "    sceneRadiance = img.copy()\n",
    "    img = np.float32(img)\n",
    "    for i in range(0, 2):\n",
    "        sceneRadiance[:, :, i] = (img[:, :, i] - AtomsphericLight[i]) / transmission[:, :, i] + AtomsphericLight[i]\n",
    "        # 限制透射率 在0～255\n",
    "    sceneRadiance = (sceneRadiance - sceneRadiance.min()) / (sceneRadiance.max() - sceneRadiance.min()) * 255\n",
    "    sceneRadiance = np.clip(sceneRadiance, 0, 255)\n",
    "    sceneRadiance = np.uint8(sceneRadiance)\n",
    "\n",
    "    return sceneRadiance\n"
   ]
  }
 ],
 "metadata": {
  "kernelspec": {
   "display_name": "Python 3",
   "language": "python",
   "name": "python3"
  },
  "language_info": {
   "codemirror_mode": {
    "name": "ipython",
    "version": 3
   },
   "file_extension": ".py",
   "mimetype": "text/x-python",
   "name": "python",
   "nbconvert_exporter": "python",
   "pygments_lexer": "ipython3",
   "version": "3.8.5"
  }
 },
 "nbformat": 4,
 "nbformat_minor": 4
}
